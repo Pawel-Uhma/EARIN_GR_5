{
 "cells": [
  {
   "cell_type": "code",
   "execution_count": 4,
   "id": "7c5fa45c",
   "metadata": {},
   "outputs": [],
   "source": [
    "import os\n",
    "import glob\n",
    "import pandas as pd\n",
    "from PIL import Image\n",
    "\n",
    "RAW_DIR = os.path.join('.', 'data', 'raw')\n",
    "TRAIN_CSV = os.path.join('.', 'data', 'train.csv')"
   ]
  },
  {
   "cell_type": "code",
   "execution_count": 5,
   "id": "81ed3739",
   "metadata": {},
   "outputs": [
    {
     "data": {
      "text/html": [
       "<div>\n",
       "<style scoped>\n",
       "    .dataframe tbody tr th:only-of-type {\n",
       "        vertical-align: middle;\n",
       "    }\n",
       "\n",
       "    .dataframe tbody tr th {\n",
       "        vertical-align: top;\n",
       "    }\n",
       "\n",
       "    .dataframe thead th {\n",
       "        text-align: right;\n",
       "    }\n",
       "</style>\n",
       "<table border=\"1\" class=\"dataframe\">\n",
       "  <thead>\n",
       "    <tr style=\"text-align: right;\">\n",
       "      <th></th>\n",
       "      <th>filename</th>\n",
       "      <th>width</th>\n",
       "      <th>height</th>\n",
       "      <th>file_size_bytes</th>\n",
       "    </tr>\n",
       "  </thead>\n",
       "  <tbody>\n",
       "    <tr>\n",
       "      <th>0</th>\n",
       "      <td>0.jpg</td>\n",
       "      <td>68</td>\n",
       "      <td>69</td>\n",
       "      <td>1762</td>\n",
       "    </tr>\n",
       "    <tr>\n",
       "      <th>1</th>\n",
       "      <td>1.jpg</td>\n",
       "      <td>309</td>\n",
       "      <td>387</td>\n",
       "      <td>8276</td>\n",
       "    </tr>\n",
       "    <tr>\n",
       "      <th>2</th>\n",
       "      <td>100.jpg</td>\n",
       "      <td>98</td>\n",
       "      <td>168</td>\n",
       "      <td>2721</td>\n",
       "    </tr>\n",
       "    <tr>\n",
       "      <th>3</th>\n",
       "      <td>10000.jpg</td>\n",
       "      <td>115</td>\n",
       "      <td>137</td>\n",
       "      <td>2765</td>\n",
       "    </tr>\n",
       "    <tr>\n",
       "      <th>4</th>\n",
       "      <td>10001.jpg</td>\n",
       "      <td>105</td>\n",
       "      <td>162</td>\n",
       "      <td>2798</td>\n",
       "    </tr>\n",
       "  </tbody>\n",
       "</table>\n",
       "</div>"
      ],
      "text/plain": [
       "    filename  width  height  file_size_bytes\n",
       "0      0.jpg     68      69             1762\n",
       "1      1.jpg    309     387             8276\n",
       "2    100.jpg     98     168             2721\n",
       "3  10000.jpg    115     137             2765\n",
       "4  10001.jpg    105     162             2798"
      ]
     },
     "execution_count": 5,
     "metadata": {},
     "output_type": "execute_result"
    }
   ],
   "source": [
    "records = []\n",
    "for img_path in glob.glob(os.path.join(RAW_DIR, '*.jpg')):\n",
    "    try:\n",
    "        with Image.open(img_path) as img:\n",
    "            width, height = img.size\n",
    "        file_size = os.path.getsize(img_path)\n",
    "        records.append({\n",
    "            'filename': os.path.basename(img_path),\n",
    "            'width': width,\n",
    "            'height': height,\n",
    "            'file_size_bytes': file_size\n",
    "        })\n",
    "    except Exception as e:\n",
    "        print(f\"Error reading {img_path}: {e}\")\n",
    "\n",
    "# Convert to DataFrame\n",
    "images_df = pd.DataFrame(records)\n",
    "images_df.head()\n"
   ]
  },
  {
   "cell_type": "code",
   "execution_count": null,
   "id": "2a1ea3f6",
   "metadata": {},
   "outputs": [
    {
     "name": "stdout",
     "output_type": "stream",
     "text": [
      "All train.csv IDs have matching images in raw/\n"
     ]
    }
   ],
   "source": [
    "train_df = pd.read_csv(TRAIN_CSV)\n",
    "train_df.head()\n",
    "\n",
    "# Check for any mismatches \n",
    "missing = set(train_df['ID']) - set(images_df['filename'])\n",
    "if missing:\n",
    "    print(f\"Warning: These IDs are in train.csv but no corresponding image found:\\n{missing}\")\n",
    "else:\n",
    "    print(\"All train.csv IDs have matching images in raw/\")\n"
   ]
  },
  {
   "cell_type": "code",
   "execution_count": 7,
   "id": "9da68efa",
   "metadata": {},
   "outputs": [
    {
     "data": {
      "text/html": [
       "<div>\n",
       "<style scoped>\n",
       "    .dataframe tbody tr th:only-of-type {\n",
       "        vertical-align: middle;\n",
       "    }\n",
       "\n",
       "    .dataframe tbody tr th {\n",
       "        vertical-align: top;\n",
       "    }\n",
       "\n",
       "    .dataframe thead th {\n",
       "        text-align: right;\n",
       "    }\n",
       "</style>\n",
       "<table border=\"1\" class=\"dataframe\">\n",
       "  <thead>\n",
       "    <tr style=\"text-align: right;\">\n",
       "      <th></th>\n",
       "      <th>filename</th>\n",
       "      <th>Class</th>\n",
       "      <th>width</th>\n",
       "      <th>height</th>\n",
       "      <th>file_size_bytes</th>\n",
       "    </tr>\n",
       "  </thead>\n",
       "  <tbody>\n",
       "    <tr>\n",
       "      <th>0</th>\n",
       "      <td>377.jpg</td>\n",
       "      <td>MIDDLE</td>\n",
       "      <td>70</td>\n",
       "      <td>85</td>\n",
       "      <td>1727</td>\n",
       "    </tr>\n",
       "    <tr>\n",
       "      <th>1</th>\n",
       "      <td>17814.jpg</td>\n",
       "      <td>YOUNG</td>\n",
       "      <td>82</td>\n",
       "      <td>102</td>\n",
       "      <td>2031</td>\n",
       "    </tr>\n",
       "    <tr>\n",
       "      <th>2</th>\n",
       "      <td>21283.jpg</td>\n",
       "      <td>MIDDLE</td>\n",
       "      <td>82</td>\n",
       "      <td>133</td>\n",
       "      <td>2583</td>\n",
       "    </tr>\n",
       "    <tr>\n",
       "      <th>3</th>\n",
       "      <td>16496.jpg</td>\n",
       "      <td>YOUNG</td>\n",
       "      <td>54</td>\n",
       "      <td>57</td>\n",
       "      <td>1336</td>\n",
       "    </tr>\n",
       "    <tr>\n",
       "      <th>4</th>\n",
       "      <td>4487.jpg</td>\n",
       "      <td>MIDDLE</td>\n",
       "      <td>133</td>\n",
       "      <td>200</td>\n",
       "      <td>3657</td>\n",
       "    </tr>\n",
       "  </tbody>\n",
       "</table>\n",
       "</div>"
      ],
      "text/plain": [
       "    filename   Class  width  height  file_size_bytes\n",
       "0    377.jpg  MIDDLE     70      85             1727\n",
       "1  17814.jpg   YOUNG     82     102             2031\n",
       "2  21283.jpg  MIDDLE     82     133             2583\n",
       "3  16496.jpg   YOUNG     54      57             1336\n",
       "4   4487.jpg  MIDDLE    133     200             3657"
      ]
     },
     "execution_count": 7,
     "metadata": {},
     "output_type": "execute_result"
    }
   ],
   "source": [
    "data_df = (\n",
    "    train_df\n",
    "    .rename(columns={'ID':'filename'})\n",
    "    .merge(images_df, on='filename', how='left')\n",
    ")\n",
    "data_df.head()\n"
   ]
  },
  {
   "cell_type": "code",
   "execution_count": 8,
   "id": "58c56eba",
   "metadata": {},
   "outputs": [
    {
     "name": "stdout",
     "output_type": "stream",
     "text": [
      "Class counts:\n",
      "Class\n",
      "MIDDLE    10804\n",
      "YOUNG      6706\n",
      "OLD        2396\n",
      "Name: count, dtype: int64\n",
      "\n",
      "Image dimension statistics:\n",
      "              width        height  file_size_bytes\n",
      "count  19906.000000  19906.000000     19906.000000\n",
      "mean      99.010700    125.467246      2523.939164\n",
      "std       78.192463     92.986340      2321.520698\n",
      "min        8.000000     11.000000       644.000000\n",
      "25%       43.000000     59.000000      1111.000000\n",
      "50%       75.000000     97.000000      1681.000000\n",
      "75%      129.000000    163.000000      2964.750000\n",
      "max      724.000000    713.000000     27858.000000\n",
      "\n",
      "Per-class average dimensions:\n",
      "             width                      height                  \\\n",
      "              mean median min  max        mean median min  max   \n",
      "Class                                                            \n",
      "MIDDLE   93.402536   69.0   8  722  118.020085   91.0  11  648   \n",
      "OLD      93.021285   69.0  10  512  116.778381   89.0  13  554   \n",
      "YOUNG   110.185953   86.0   9  724  140.569788  110.0  12  713   \n",
      "\n",
      "       file_size_bytes                      \n",
      "                  mean  median  min    max  \n",
      "Class                                       \n",
      "MIDDLE     2324.394484  1557.0  644  27858  \n",
      "OLD        2381.611853  1508.0  679  18752  \n",
      "YOUNG      2896.276916  1982.0  661  23601  \n"
     ]
    }
   ],
   "source": [
    "# 1) Class distribution\n",
    "class_counts = data_df['Class'].value_counts()\n",
    "print(\"Class counts:\")\n",
    "print(class_counts)\n",
    "\n",
    "# 2) Overall image size statistics\n",
    "print(\"\\nImage dimension statistics:\")\n",
    "print(data_df[['width','height','file_size_bytes']].describe())\n",
    "\n",
    "# 3) Per-class size summaries\n",
    "print(\"\\nPer-class average dimensions:\")\n",
    "print(\n",
    "    data_df\n",
    "    .groupby('Class')[['width','height','file_size_bytes']]\n",
    "    .agg(['mean','median','min','max'])\n",
    ")\n"
   ]
  },
  {
   "cell_type": "code",
   "execution_count": 11,
   "id": "59517b6a",
   "metadata": {},
   "outputs": [
    {
     "data": {
      "image/png": "[encoded data removed]",
      "text/plain": [
       "<Figure size 800x500 with 1 Axes>"
      ]
     },
     "metadata": {},
     "output_type": "display_data"
    }
   ],
   "source": [
    "import matplotlib.pyplot as plt\n",
    "\n",
    "# Compute counts and percentages\n",
    "class_counts = data_df['Class'].value_counts()\n",
    "class_percents = class_counts / class_counts.sum() * 100\n",
    "\n",
    "# Bar chart of counts\n",
    "plt.figure(figsize=(8, 5))\n",
    "class_counts.plot(kind='bar')\n",
    "plt.title(\"Image Count per Class\")\n",
    "plt.xlabel(\"Class\")\n",
    "plt.ylabel(\"Number of Images\")\n",
    "plt.xticks(rotation=0)\n",
    "plt.tight_layout()\n",
    "plt.show()\n",
    " "
   ]
  },
  {
   "cell_type": "code",
   "execution_count": 9,
   "id": "69964d69",
   "metadata": {},
   "outputs": [
    {
     "data": {
      "image/png": "[encoded data removed]",
      "text/plain": [
       "<Figure size 600x400 with 1 Axes>"
      ]
     },
     "metadata": {},
     "output_type": "display_data"
    },
    {
     "data": {
      "image/png": "[encoded data removed]",
      "text/plain": [
       "<Figure size 600x400 with 1 Axes>"
      ]
     },
     "metadata": {},
     "output_type": "display_data"
    }
   ],
   "source": [
    "import matplotlib.pyplot as plt\n",
    "\n",
    "# Histogram of widths\n",
    "plt.figure(figsize=(6,4))\n",
    "plt.hist(data_df['width'], bins=30)\n",
    "plt.title(\"Distribution of Image Widths\")\n",
    "plt.xlabel(\"Width (px)\")\n",
    "plt.ylabel(\"Count\")\n",
    "plt.show()\n",
    "\n",
    "# Histogram of heights\n",
    "plt.figure(figsize=(6,4))\n",
    "plt.hist(data_df['height'], bins=30)\n",
    "plt.title(\"Distribution of Image Heights\")\n",
    "plt.xlabel(\"Height (px)\")\n",
    "plt.ylabel(\"Count\")\n",
    "plt.show()\n"
   ]
  }
 ],
 "metadata": {
  "kernelspec": {
   "display_name": "Python 3",
   "language": "python",
   "name": "python3"
  },
  "language_info": {
   "codemirror_mode": {
    "name": "ipython",
    "version": 3
   },
   "file_extension": ".py",
   "mimetype": "text/x-python",
   "name": "python",
   "nbconvert_exporter": "python",
   "pygments_lexer": "ipython3",
   "version": "3.11.3"
  }
 },
 "nbformat": 4,
 "nbformat_minor": 5
}
